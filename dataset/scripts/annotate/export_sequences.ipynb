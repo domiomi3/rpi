{
 "cells": [
  {
   "cell_type": "markdown",
   "metadata": {
    "collapsed": false
   },
   "source": [
    "# Exporting Unique Sequences\n",
    "Notebook helps to export all unique RNA and protein sequences\n"
   ]
  },
  {
   "cell_type": "markdown",
   "metadata": {
    "collapsed": false
   },
   "source": [
    "## Protein Sequences"
   ]
  },
  {
   "cell_type": "code",
   "execution_count": 28,
   "metadata": {
    "ExecuteTime": {
     "end_time": "2023-12-04T15:40:17.797521Z",
     "start_time": "2023-12-04T15:40:17.511819Z"
    },
    "collapsed": false
   },
   "outputs": [],
   "source": [
    "import pandas as pd\n",
    "import os\n",
    "import pickle\n",
    "import math\n",
    "import numpy as np\n",
    "from pathlib import Path"
   ]
  },
  {
   "cell_type": "code",
   "execution_count": 29,
   "metadata": {
    "ExecuteTime": {
     "end_time": "2023-12-04T15:40:18.000224Z",
     "start_time": "2023-12-04T15:40:17.997708Z"
    },
    "collapsed": false
   },
   "outputs": [],
   "source": [
    "# DB_PATH = \"dataset/external_databases\"\n",
    "DB_PATH = \"/work/dlclarge1/matusd-rpi/RPI/RNAProteinInteractions\"\n",
    "RESULTS_PATH = \"dataset/results/\"\n",
    "Path(RESULTS_PATH).mkdir(parents=True, exist_ok=True)"
   ]
  },
  {
   "cell_type": "markdown",
   "metadata": {},
   "source": []
  },
  {
   "cell_type": "code",
   "execution_count": 30,
   "metadata": {},
   "outputs": [
    {
     "name": "stdout",
     "output_type": "stream",
     "text": [
      "/work/dlclarge1/matusd-rpi/RPI/RNAProteinInteractions\n",
      "True\n",
      "False\n",
      "True\n"
     ]
    }
   ],
   "source": [
    "print(DB_PATH)\n",
    "seq_databases = [\n",
    "    os.path.join(DB_PATH, 'NCBI/ncbi_proteins.parquet'),\n",
    "    os.path.join(DB_PATH, 'UniProt/protein_UniProt.parquet'),\n",
    "]\n",
    "print(os.path.exists(seq_databases[0]))\n",
    "print(os.path.exists(seq_databases[1]))\n",
    "print(os.path.exists(\"/work/dlclarge1/matusd-rpi/RPI/RNAProteinInteractions/NCBI/ncbi_proteins.parquet\"))"
   ]
  },
  {
   "cell_type": "code",
   "execution_count": 31,
   "metadata": {
    "ExecuteTime": {
     "end_time": "2023-12-04T15:40:19.961830Z",
     "start_time": "2023-12-04T15:40:18.584403Z"
    },
    "collapsed": false
   },
   "outputs": [
    {
     "name": "stdout",
     "output_type": "stream",
     "text": [
      "Number of entries:\t\t287,226\n",
      "Number of unique sequences:\t166,473\n",
      "Number of entries after dropping duplicates based on Raw_ID2 & Sequence 2: 167,227\n"
     ]
    }
   ],
   "source": [
    "seq_databases = [\n",
    "    os.path.join(DB_PATH, 'NCBI/ncbi_proteins.parquet'),\n",
    "    os.path.join(DB_PATH, 'UniProt/protein_uniprot.parquet'),\n",
    "]\n",
    "all_df = pd.DataFrame()\n",
    "for db in seq_databases:\n",
    "    temp_df = pd.read_parquet(db, engine='pyarrow')\n",
    "    all_df = pd.concat([all_df, temp_df])\n",
    "    del temp_df\n",
    "print(f\"Number of entries:\\t\\t{all_df.shape[0]:,}\")\n",
    "print(f\"Number of unique sequences:\\t{all_df['Sequence_2'].nunique():,}\")\n",
    "all_df = all_df.dropna(subset=['Sequence_2'])\n",
    "all_df['Sequence_2_shuffle'] = False\n",
    "all_df = all_df.drop_duplicates(subset=['Raw_ID2', 'Sequence_2'])\n",
    "print(f\"Number of entries after dropping duplicates based on Raw_ID2 & Sequence 2: {all_df.shape[0]:,}\")\n",
    "all_df.to_parquet(os.path.join(RESULTS_PATH, 'protein_sequences.parquet'), engine='pyarrow')"
   ]
  },
  {
   "cell_type": "code",
   "execution_count": 32,
   "metadata": {
    "ExecuteTime": {
     "end_time": "2023-12-04T15:40:20.618817Z",
     "start_time": "2023-12-04T15:40:20.352308Z"
    },
    "collapsed": false
   },
   "outputs": [
    {
     "name": "stdout",
     "output_type": "stream",
     "text": [
      "133,069/167,227\n"
     ]
    }
   ],
   "source": [
    "all_df = pd.read_parquet(os.path.join(RESULTS_PATH, 'protein_sequences.parquet'), engine='pyarrow')\n",
    "# store protein sequences shorter than 1024\n",
    "all_df_short = all_df[all_df['Sequence_2_len'] <= 1024]\n",
    "print(f\"{all_df_short.shape[0]:,}/{all_df.shape[0]:,}\")\n",
    "\n",
    "all_df_short.to_parquet(os.path.join(RESULTS_PATH, 'protein_sequences_short.parquet'), engine='pyarrow')"
   ]
  },
  {
   "cell_type": "code",
   "execution_count": 33,
   "metadata": {},
   "outputs": [
    {
     "data": {
      "text/html": [
       "<div>\n",
       "<style scoped>\n",
       "    .dataframe tbody tr th:only-of-type {\n",
       "        vertical-align: middle;\n",
       "    }\n",
       "\n",
       "    .dataframe tbody tr th {\n",
       "        vertical-align: top;\n",
       "    }\n",
       "\n",
       "    .dataframe thead th {\n",
       "        text-align: right;\n",
       "    }\n",
       "</style>\n",
       "<table border=\"1\" class=\"dataframe\">\n",
       "  <thead>\n",
       "    <tr style=\"text-align: right;\">\n",
       "      <th></th>\n",
       "      <th>Raw_ID2</th>\n",
       "      <th>Sequence_2_ID</th>\n",
       "      <th>Sequence_2</th>\n",
       "      <th>Sequence_2_len</th>\n",
       "      <th>Sequence_2_shuffle</th>\n",
       "    </tr>\n",
       "  </thead>\n",
       "  <tbody>\n",
       "    <tr>\n",
       "      <th>0</th>\n",
       "      <td>NCBI:69865</td>\n",
       "      <td>1434110739</td>\n",
       "      <td>mesnhksgdglsgtqkeaalralvqrtgyslvqengqrkyggpppg...</td>\n",
       "      <td>587</td>\n",
       "      <td>False</td>\n",
       "    </tr>\n",
       "    <tr>\n",
       "      <th>1</th>\n",
       "      <td>NCBI:69865</td>\n",
       "      <td>1039758154</td>\n",
       "      <td>mrlmmdfngnnrgyafvtfsnkqeaknaikqlnnyeirtgrllgvc...</td>\n",
       "      <td>511</td>\n",
       "      <td>False</td>\n",
       "    </tr>\n",
       "    <tr>\n",
       "      <th>2</th>\n",
       "      <td>NCBI:69865</td>\n",
       "      <td>124487289</td>\n",
       "      <td>mesnhksgdglsgtqkeaalralvqrtgyslvqengqrkyggpppg...</td>\n",
       "      <td>595</td>\n",
       "      <td>False</td>\n",
       "    </tr>\n",
       "    <tr>\n",
       "      <th>3</th>\n",
       "      <td>NCBI:20927</td>\n",
       "      <td>2213207097</td>\n",
       "      <td>mplafcgtenhsaayrvdqgvlnngcfvdalnvvphvfllfitfpi...</td>\n",
       "      <td>551</td>\n",
       "      <td>False</td>\n",
       "    </tr>\n",
       "    <tr>\n",
       "      <th>5</th>\n",
       "      <td>NCBI:20927</td>\n",
       "      <td>2213206835</td>\n",
       "      <td>meyigacvvliaaatsisnslhrelsaglvglgltyalmvsnylnw...</td>\n",
       "      <td>331</td>\n",
       "      <td>False</td>\n",
       "    </tr>\n",
       "  </tbody>\n",
       "</table>\n",
       "</div>"
      ],
      "text/plain": [
       "      Raw_ID2 Sequence_2_ID  \\\n",
       "0  NCBI:69865    1434110739   \n",
       "1  NCBI:69865    1039758154   \n",
       "2  NCBI:69865     124487289   \n",
       "3  NCBI:20927    2213207097   \n",
       "5  NCBI:20927    2213206835   \n",
       "\n",
       "                                          Sequence_2  Sequence_2_len  \\\n",
       "0  mesnhksgdglsgtqkeaalralvqrtgyslvqengqrkyggpppg...             587   \n",
       "1  mrlmmdfngnnrgyafvtfsnkqeaknaikqlnnyeirtgrllgvc...             511   \n",
       "2  mesnhksgdglsgtqkeaalralvqrtgyslvqengqrkyggpppg...             595   \n",
       "3  mplafcgtenhsaayrvdqgvlnngcfvdalnvvphvfllfitfpi...             551   \n",
       "5  meyigacvvliaaatsisnslhrelsaglvglgltyalmvsnylnw...             331   \n",
       "\n",
       "   Sequence_2_shuffle  \n",
       "0               False  \n",
       "1               False  \n",
       "2               False  \n",
       "3               False  \n",
       "5               False  "
      ]
     },
     "execution_count": 33,
     "metadata": {},
     "output_type": "execute_result"
    }
   ],
   "source": [
    "all_df_short.head()"
   ]
  },
  {
   "cell_type": "markdown",
   "metadata": {
    "collapsed": false
   },
   "source": [
    "## RNA Sequences"
   ]
  },
  {
   "cell_type": "code",
   "execution_count": 34,
   "metadata": {
    "ExecuteTime": {
     "end_time": "2023-12-04T15:42:35.065293Z",
     "start_time": "2023-12-04T15:42:20.199654Z"
    },
    "collapsed": false
   },
   "outputs": [
    {
     "name": "stdout",
     "output_type": "stream",
     "text": [
      "Number of entries:\t\t564,557\n",
      "Number of unique sequences:\t539,133\n"
     ]
    }
   ],
   "source": [
    "seq_databases = [\n",
    "    os.path.join(DB_PATH, 'Ensembl/Ensembl.parquet'),\n",
    "    os.path.join(DB_PATH, 'miRBase/miRNA.parquet'),\n",
    "    os.path.join(DB_PATH, 'NCBI/ncbi_rna.parquet'),\n",
    "    os.path.join(DB_PATH, 'NONCODE/NONCODE.parquet'),\n",
    "]\n",
    "all_df = pd.DataFrame()\n",
    "for db in seq_databases:\n",
    "    temp_df = pd.read_parquet(db, engine='pyarrow')\n",
    "    all_df = pd.concat([all_df, temp_df])\n",
    "    del temp_df\n",
    "print(f\"Number of entries:\\t\\t{all_df.shape[0]:,}\")\n",
    "print(f\"Number of unique sequences:\\t{all_df['Sequence_1'].nunique():,}\")\n",
    "all_df = all_df.dropna(subset=['Sequence_1'])\n",
    "all_df = all_df.drop(['index'], axis=1)\n",
    "all_df['Sequence_1_shuffle'] = False\n",
    "all_df.to_parquet(os.path.join(RESULTS_PATH, 'rna_sequences.parquet'), engine='pyarrow')"
   ]
  },
  {
   "cell_type": "code",
   "execution_count": 35,
   "metadata": {},
   "outputs": [
    {
     "name": "stdout",
     "output_type": "stream",
     "text": [
      "                      Raw_ID1  \\\n",
      "0  Ensembl:ENSMUSG00000108652   \n",
      "1  Ensembl:ENSMUSG00000086714   \n",
      "2  Ensembl:ENSMUSG00000089755   \n",
      "3  Ensembl:ENSMUSG00000046683   \n",
      "4  Ensembl:ENSMUSG00000108236   \n",
      "\n",
      "                                          Sequence_1  Sequence_1_len  \\\n",
      "0  AACAGAACAAAAAUGGAGAGAAGCAAAGACAGAGCCAUUAAAUAUC...           34996   \n",
      "1  ACAGGAUUCUUCAAUCCAGAUCCCCGGGGAGAAUCAGUCUUGAAAA...           13695   \n",
      "2  GACAUUUCUGCACCAAGCACACAGCUUGUGGGUGCCUCAUAGCCUC...            2224   \n",
      "3  GGAGAGGGAAUUGGCAGGUUCAGCGGGAGGCUACUCCCCCACCUGU...           10394   \n",
      "4  GCAUCGGGCUCUGCUCUGGGACUUAGCAGGAAAGGUGCGCAUUCAG...            1254   \n",
      "\n",
      "        Sequence_1_ID  Sequence_1_shuffle  \n",
      "0  ENSMUSG00000108652               False  \n",
      "1  ENSMUSG00000086714               False  \n",
      "2  ENSMUSG00000089755               False  \n",
      "3  ENSMUSG00000046683               False  \n",
      "4  ENSMUSG00000108236               False  \n"
     ]
    }
   ],
   "source": [
    "print(all_df.head())"
   ]
  },
  {
   "cell_type": "code",
   "execution_count": 36,
   "metadata": {},
   "outputs": [
    {
     "name": "stdout",
     "output_type": "stream",
     "text": [
      "18 1338345 2710.0 7647.0\n"
     ]
    }
   ],
   "source": [
    "max_value = all_df['Sequence_1_len'].max()\n",
    "min_value = all_df['Sequence_1_len'].min()\n",
    "median = all_df['Sequence_1_len'].median()\n",
    "quantile_90 = all_df['Sequence_1_len'].quantile(0.9)\n",
    "\n",
    "\n",
    "print(min_value, max_value, median, quantile_90)"
   ]
  },
  {
   "cell_type": "code",
   "execution_count": 39,
   "metadata": {},
   "outputs": [
    {
     "name": "stdout",
     "output_type": "stream",
     "text": [
      "158356 158356.0\n",
      "324678 166322.0\n",
      "424466 99788.0\n",
      "481859 57393.0\n",
      "513996 32137.0\n"
     ]
    },
    {
     "data": {
      "image/png": "[encoded data removed]",
      "text/plain": [
       "<Figure size 1000x600 with 1 Axes>"
      ]
     },
     "metadata": {},
     "output_type": "display_data"
    }
   ],
   "source": [
    "import numpy as np\n",
    "import math\n",
    "import matplotlib.pyplot as plt\n",
    "\n",
    "\n",
    "# Calculate the 90th percentile for the sequence length column\n",
    "quantile_90 = all_df['Sequence_1_len'].quantile(0.90)\n",
    "\n",
    "# Determine the range to ceil the 90th quantile to the nearest thousand\n",
    "upper_range = math.ceil(quantile_90 / 1000) * 1000\n",
    "\n",
    "# Create histogram and capture the bin counts\n",
    "plt.figure(figsize=(10, 6))\n",
    "values, bins, patches = plt.hist(all_df['Sequence_1_len'], bins=5, range=[0, upper_range], edgecolor='black')\n",
    "c_val = 0\n",
    "# Annotate each bar with the count of sequences\n",
    "for i in range(len(values)):\n",
    "    # Calculate the center of each bin\n",
    "    bin_center = (bins[i] + bins[i+1]) / 2\n",
    "    c_val = c_val + int(values[i])\n",
    "    print(c_val, values[i])\n",
    "    # Annotate the bar with the count above it\n",
    "    plt.text(bin_center, values[i], str(c_val), ha='center', va='bottom')\n",
    "\n",
    "plt.xlabel('Sequence Length')\n",
    "plt.ylabel('Frequency')\n",
    "plt.title('Distribution of Sequence Lengths')\n",
    "plt.grid(True)\n",
    "plt.show()\n"
   ]
  },
  {
   "cell_type": "code",
   "execution_count": 24,
   "metadata": {},
   "outputs": [
    {
     "data": {
      "image/png": "[encoded data removed]",
      "text/plain": [
       "<Figure size 1000x600 with 1 Axes>"
      ]
     },
     "metadata": {},
     "output_type": "display_data"
    }
   ],
   "source": [
    "# Create histogram\n",
    "plt.figure(figsize=(10, 6))\n",
    "n, bins, patches = plt.hist(all_df['Sequence_1_len'], bins=5, range=[0, math.ceil(quantile_90 / 1000) * 1000], edgecolor='black', label='Frequency')\n",
    "\n",
    "# Calculate the cumulative counts\n",
    "cumulative_counts = np.cumsum(n)\n",
    "\n",
    "# Plot the cumulative counts using the step function for a stairstep-like plot\n",
    "plt.step(bins[:-1], cumulative_counts, where='mid', color='red', label='Cumulative count')\n",
    "\n",
    "# Add labels, title, and legend\n",
    "plt.xlabel('Sequence Length')\n",
    "plt.ylabel('Frequency / Cumulative Count')\n",
    "plt.title('Distribution and Cumulative Distribution of Sequence Lengths')\n",
    "plt.grid(True)\n",
    "plt.legend()\n",
    "\n",
    "# Show the plot\n",
    "plt.show()"
   ]
  },
  {
   "cell_type": "code",
   "execution_count": 40,
   "metadata": {
    "ExecuteTime": {
     "end_time": "2023-12-04T15:42:35.100537Z",
     "start_time": "2023-12-04T15:42:35.069788Z"
    },
    "collapsed": false
   },
   "outputs": [
    {
     "name": "stdout",
     "output_type": "stream",
     "text": [
      "11,290/564,557\n"
     ]
    }
   ],
   "source": [
    "# store rna sequences shorter than 150 bps\n",
    "\n",
    "all_df_short = all_df[all_df['Sequence_1_len'] <= 150]\n",
    "print(f\"{all_df_short.shape[0]:,}/{all_df.shape[0]:,}\")\n",
    "all_df_short.to_parquet(os.path.join(RESULTS_PATH, 'rna_sequences_short.parquet'), engine='pyarrow')"
   ]
  },
  {
   "cell_type": "markdown",
   "metadata": {},
   "source": []
  },
  {
   "cell_type": "code",
   "execution_count": 41,
   "metadata": {
    "collapsed": false
   },
   "outputs": [
    {
     "name": "stdout",
     "output_type": "stream",
     "text": [
      "Number of sequences: 564557\n",
      "11290\n"
     ]
    }
   ],
   "source": [
    "# Store fasta file of all unique RNA sequences (specific for RNA-FM)\n",
    "all_df = all_df.sort_values(by=['Sequence_1_len'])\n",
    "all_df = all_df.dropna(subset=['Sequence_1'])\n",
    "print(f\"Number of sequences: {all_df.shape[0]}\")\n",
    "# Filter out sequences which are longer than 10000 BPs\n",
    "# typo here?\n",
    "# all_df = all_df[all_df['Sequence_1_len'] <= 1024]\n",
    "all_df = all_df[all_df['Sequence_1_len'] <= 150]\n",
    "# rna_sequences = [SeqIO.SeqRecord(Seq(seq['Sequence_1']), id=seq['Raw_ID1'], description=\"\") for idx, seq in all_df.iterrows()]\n",
    "rna_sequences = [(seq['Raw_ID1'], seq['Sequence_1']) for _, seq in all_df.iterrows()]\n",
    "print(len(rna_sequences))\n",
    "with open('unique_rna_sequences.pickle', 'wb') as file:\n",
    "    pickle.dump(rna_sequences, file)"
   ]
  },
  {
   "cell_type": "code",
   "execution_count": null,
   "metadata": {},
   "outputs": [],
   "source": []
  }
 ],
 "metadata": {
  "kernelspec": {
   "display_name": "Python 3",
   "language": "python",
   "name": "python3"
  },
  "language_info": {
   "codemirror_mode": {
    "name": "ipython",
    "version": 3
   },
   "file_extension": ".py",
   "mimetype": "text/x-python",
   "name": "python",
   "nbconvert_exporter": "python",
   "pygments_lexer": "ipython3",
   "version": "3.8.18"
  }
 },
 "nbformat": 4,
 "nbformat_minor": 0
}
