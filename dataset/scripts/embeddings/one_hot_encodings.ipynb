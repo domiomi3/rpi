{
 "cells": [
  {
   "cell_type": "markdown",
   "source": [
    "# Helps to create One-Hot Encodings for RNA and protein sequences"
   ],
   "metadata": {
    "collapsed": false
   },
   "id": "ea6abeccedffa738"
  },
  {
   "cell_type": "code",
   "execution_count": null,
   "outputs": [],
   "source": [
    "import numpy as np\n",
    "import pandas as pd\n",
    "from tqdm import tqdm"
   ],
   "metadata": {
    "collapsed": false
   },
   "id": "initial_id"
  },
  {
   "cell_type": "code",
   "execution_count": null,
   "outputs": [],
   "source": [
    "def create_embeddings(df: pd.DataFrame, enc_size, alphabet: list, seq_key: str):\n",
    "    seqs = []\n",
    "    encoded_seqs = []\n",
    "    df = df.sort_values(by=[f\"{seq_key}_ID_Unique\"])\n",
    "    for _, row in tqdm(df.iterrows(), total=len(df)):\n",
    "        seq = row[seq_key]\n",
    "        assert type(seq) == str\n",
    "        for elm in seq:\n",
    "            assert elm.upper() in alphabet\n",
    "        enc_seq = np.array([alphabet[elm.upper()] for elm in seq])\n",
    "        enc_dimension = len(alphabet)\n",
    "        one_enc_seq = np.zeros((enc_size, enc_dimension), dtype=int)\n",
    "        one_enc_seq[np.arange(enc_seq.size), enc_seq] = 1 \n",
    "        seqs.append(enc_seq)\n",
    "        encoded_seqs.append(one_enc_seq)\n",
    "    encoded_seqs = np.stack(encoded_seqs)\n",
    "    return seqs, encoded_seqs"
   ],
   "metadata": {
    "collapsed": false
   },
   "id": "ac832b6ee97656fb"
  },
  {
   "cell_type": "code",
   "execution_count": null,
   "outputs": [],
   "source": [
    "def collect_alphabet(df: pd.DataFrame):\n",
    "    letters = set()\n",
    "    seq_key = 'Sequence_2'\n",
    "    for _, row in tqdm(df.iterrows(), total=len(df)):\n",
    "        seq = row[seq_key]\n",
    "        assert type(seq) == str\n",
    "        for elm in seq:\n",
    "            letters.add(elm.upper())\n",
    "    letters = sorted(list(letters))\n",
    "    print({letter:idx for idx, letter in enumerate(letters)})\n"
   ],
   "metadata": {
    "collapsed": false
   },
   "id": "dc5fd2fd760ca82f"
  },
  {
   "cell_type": "code",
   "execution_count": null,
   "outputs": [],
   "source": [
    "unique_RNAs = pd.read_parquet('../results/unique_RNAs.parquet')\n",
    "rna_alphabet = {'C': 0,\n",
    "            'G': 1,\n",
    "            'A': 2,\n",
    "            'U': 3}\n",
    "_, rna_embeddings = create_embeddings(unique_RNAs, 150, rna_alphabet, 'Sequence_1')"
   ],
   "metadata": {
    "collapsed": false
   },
   "id": "da20e5fbbf18ac12"
  },
  {
   "cell_type": "code",
   "execution_count": null,
   "outputs": [],
   "source": [
    "unique_proteins = pd.read_parquet('../results/unique_proteins.parquet')\n",
    "# collect_alphabet(unique_proteins)\n",
    "protein_alphabet = {'A': 0, 'C': 1, 'D': 2, 'E': 3, 'F': 4, 'G': 5, 'H': 6, 'I': 7, 'K': 8, 'L': 9, 'M': 10, 'N': 11, 'P': 12, 'Q': 13, 'R': 14, 'S': 15, 'T': 16, 'V': 17, 'W': 18, 'X': 19, 'Y': 20}\n",
    "_, protein_embeddings = create_embeddings(unique_proteins, 1024, protein_alphabet, 'Sequence_2')"
   ],
   "metadata": {
    "collapsed": false
   },
   "id": "20a8aed66ca6ec59"
  },
  {
   "cell_type": "code",
   "execution_count": null,
   "outputs": [],
   "source": [
    "np.save('../results/simple_rna_embeddings.npy', rna_embeddings)\n",
    "np.save('../results/simple_protein_embeddings.npy', protein_embeddings)"
   ],
   "metadata": {
    "collapsed": false
   },
   "id": "7b6d0047ea77b175"
  }
 ],
 "metadata": {
  "kernelspec": {
   "display_name": "Python 3",
   "language": "python",
   "name": "python3"
  },
  "language_info": {
   "codemirror_mode": {
    "name": "ipython",
    "version": 2
   },
   "file_extension": ".py",
   "mimetype": "text/x-python",
   "name": "python",
   "nbconvert_exporter": "python",
   "pygments_lexer": "ipython2",
   "version": "2.7.6"
  }
 },
 "nbformat": 4,
 "nbformat_minor": 5
}
