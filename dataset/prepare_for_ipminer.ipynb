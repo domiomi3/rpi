{
 "cells": [
  {
   "cell_type": "code",
   "execution_count": 1,
   "metadata": {},
   "outputs": [],
   "source": [
    "import os\n",
    "import pandas as pd\n",
    "\n",
    "WORK_DIR = \"/work/dlclarge1/matusd-rpi/RPI\"\n",
    "IPMINER_DIR = \"data/ipminer\"\n",
    "\n",
    "os.chdir(WORK_DIR)\n",
    "\n",
    "if not os.path.exists(IPMINER_DIR):\n",
    "    os.makedirs(IPMINER_DIR)    "
   ]
  },
  {
   "cell_type": "code",
   "execution_count": 6,
   "metadata": {},
   "outputs": [],
   "source": [
    "def save_sequences_to_fasta(sequences, file_name):\n",
    "    with open(file_name, 'w') as file:\n",
    "        for index, seq in enumerate(sequences):\n",
    "            file.write(f'>{index}\\n')  # Creating a simple header with index\n",
    "            file.write(f'{seq}\\n')"
   ]
  },
  {
   "cell_type": "code",
   "execution_count": 9,
   "metadata": {},
   "outputs": [],
   "source": [
    "# family-based test\n",
    "test_df = pd.read_parquet(\"data/interactions/test_set.parquet\", engine=\"pyarrow\")\n",
    "\n",
    "protein_sequences = test_df['Sequence_2'].tolist()\n",
    "rna_sequences = test_df['Sequence_1'].tolist()\n",
    "\n",
    "save_sequences_to_fasta(protein_sequences, os.path.join(IPMINER_DIR, 'f_proteins.fasta'))\n",
    "save_sequences_to_fasta(rna_sequences, os.path.join(IPMINER_DIR, 'f_rna.fasta'))"
   ]
  },
  {
   "cell_type": "code",
   "execution_count": 10,
   "metadata": {},
   "outputs": [],
   "source": [
    "# random split test \n",
    "r_test_df = pd.read_parquet(\"data/interactions/r_test_set.parquet\", engine=\"pyarrow\")\n",
    "\n",
    "protein_sequences = test_df['Sequence_2'].tolist()\n",
    "rna_sequences = test_df['Sequence_1'].tolist()\n",
    "\n",
    "save_sequences_to_fasta(protein_sequences, os.path.join(IPMINER_DIR, 'r_proteins.fasta'))\n",
    "save_sequences_to_fasta(rna_sequences, os.path.join(IPMINER_DIR, 'r_rna.fasta'))"
   ]
  },
  {
   "cell_type": "code",
   "execution_count": 11,
   "metadata": {},
   "outputs": [],
   "source": [
    "# rpi2825\n",
    "\n",
    "rpi2825_test_df = pd.read_parquet(\"data/interactions/rpi2825_test_set.parquet\", engine=\"pyarrow\")\n",
    "\n",
    "protein_sequences = test_df['Sequence_2'].tolist()\n",
    "rna_sequences = test_df['Sequence_1'].tolist()\n",
    "\n",
    "save_sequences_to_fasta(protein_sequences, os.path.join(IPMINER_DIR, 'rpi2825_proteins.fasta'))\n",
    "save_sequences_to_fasta(rna_sequences, os.path.join(IPMINER_DIR, 'rpi2825_rna.fasta'))"
   ]
  }
 ],
 "metadata": {
  "kernelspec": {
   "display_name": "rpi",
   "language": "python",
   "name": "python3"
  },
  "language_info": {
   "codemirror_mode": {
    "name": "ipython",
    "version": 3
   },
   "file_extension": ".py",
   "mimetype": "text/x-python",
   "name": "python",
   "nbconvert_exporter": "python",
   "pygments_lexer": "ipython3",
   "version": "3.8.18"
  }
 },
 "nbformat": 4,
 "nbformat_minor": 2
}
