{
 "cells": [
  {
   "cell_type": "markdown",
   "id": "d41909029f9b7e2b",
   "metadata": {
    "collapsed": false
   },
   "source": [
    "# RPI2825 dataset preparation\n",
    "This notebook helps to create the independent dataset RPI2825 for dataset creation"
   ]
  },
  {
   "cell_type": "code",
   "execution_count": 1,
   "id": "initial_id",
   "metadata": {
    "collapsed": false
   },
   "outputs": [],
   "source": [
    "import os\n",
    "import pandas as pd"
   ]
  },
  {
   "cell_type": "code",
   "execution_count": 2,
   "id": "342d61ad",
   "metadata": {},
   "outputs": [],
   "source": [
    "WORKING_DIR = \"/work/dlclarge1/matusd-rpi/RPI\" # change this to your working directory\n",
    "INTER_DIR = \"data/interactions\"\n",
    "EMB_DIR = \"data/embeddings/rpi2825\"\n",
    "ANNOT_DIR = \"data/annotations\"\n",
    "\n",
    "RPI2825_PATH = \"data/rpi2825/RPI2825.csv\"\n",
    "\n",
    "# sequence length limitations\n",
    "PROTEIN_LEN = 1024\n",
    "RNA_LEN = 1024\n",
    "\n",
    "os.chdir(WORKING_DIR)\n",
    "\n",
    "if not os.path.exists(INTER_DIR):\n",
    "    os.makedirs(INTER_DIR)\n",
    "\n",
    "if not os.path.exists(EMB_DIR):\n",
    "    os.makedirs(EMB_DIR)    "
   ]
  },
  {
   "cell_type": "markdown",
   "id": "181f976e",
   "metadata": {},
   "source": [
    "## Quick overview of RPI2825 data"
   ]
  },
  {
   "cell_type": "code",
   "execution_count": 3,
   "id": "31277359",
   "metadata": {},
   "outputs": [
    {
     "name": "stdout",
     "output_type": "stream",
     "text": [
      "Number of interactions: 2825\n",
      "Number of non-ribosomal interactions: 390\n",
      "Number of ribosomal interactions: 2435\n",
      "\n",
      "Number of unique protein sequences: 881\n",
      "Number of unique RNA sequences: 460\n",
      "\n"
     ]
    }
   ],
   "source": [
    "rpi2825_df = pd.read_csv(RPI2825_PATH)\n",
    "\n",
    "print(f\"Number of interactions: {len(rpi2825_df)}\")\n",
    "print(f\"Number of non-ribosomal interactions: {len(rpi2825_df[rpi2825_df['type'] == 'nonribo'])}\")\n",
    "print(f\"Number of ribosomal interactions: {len(rpi2825_df[rpi2825_df['type'] == 'ribo'])}\\n\")\n",
    "\n",
    "print(f\"Number of unique protein sequences: {len(rpi2825_df['protein_seq'].unique())}\")\n",
    "print(f\"Number of unique RNA sequences: {len(rpi2825_df['rna_seq'].unique())}\\n\")"
   ]
  },
  {
   "cell_type": "markdown",
   "id": "02c71574",
   "metadata": {},
   "source": [
    "## Data filtering"
   ]
  },
  {
   "cell_type": "code",
   "execution_count": 4,
   "id": "0020a0b1",
   "metadata": {},
   "outputs": [
    {
     "name": "stdout",
     "output_type": "stream",
     "text": [
      "Number of interactions after filtering out sequences longer than defined limit: 871 \n",
      "\n",
      "Number of unique protein sequences: 467\n",
      "Number of unique RNA sequences: 398 \n",
      "\n"
     ]
    }
   ],
   "source": [
    "# Filter out sequences that are longer than embedding models maximum input lengths\n",
    "rpi2825_df = rpi2825_df[rpi2825_df['protein_seq'].str.len() <= PROTEIN_LEN]\n",
    "rpi2825_df = rpi2825_df[rpi2825_df['rna_seq'].str.len() <= RNA_LEN]\n",
    "\n",
    "print(f\"Number of interactions after filtering out sequences longer than defined limit: {len(rpi2825_df)} \\n\")\n",
    "print(f\"Number of unique protein sequences: {len(rpi2825_df['protein_seq'].unique())}\")\n",
    "print(f\"Number of unique RNA sequences: {len(rpi2825_df['rna_seq'].unique())} \\n\")"
   ]
  },
  {
   "cell_type": "markdown",
   "id": "b08f075c",
   "metadata": {},
   "source": [
    "## Dataset completion"
   ]
  },
  {
   "cell_type": "code",
   "execution_count": 5,
   "id": "29eab2c7",
   "metadata": {},
   "outputs": [
    {
     "name": "stdout",
     "output_type": "stream",
     "text": [
      "Number of (positive) interactions: 871 \n",
      "\n",
      "RPI dataframe columns: \n",
      " ['type', 'Sequence_2', 'Sequence_1', 'interaction', 'Sequence_2_emb_ID', 'Sequence_1_emb_ID'] \n",
      "\n",
      "RPI sample entries: \n",
      "       type                                                                                                                                                                                                                                                                                                                                                                                                                                                                                                                                                                                                                                                                                                                                      Sequence_2                           Sequence_1  interaction  Sequence_2_emb_ID  Sequence_1_emb_ID\n",
      "0  nonribo  HSFLSPDAQVLVLAISSHPLPTLAAFLASRRDELLRADITSLLKALELSGHWEWALALLRWAGKEGAADASALEMVVRALGREGQHDAVCALLDETPLPPGSRLDVRAYTTVLHALSRAGRYERALELFAELRRQGVAPTLVTYNVVLDVYGRMGRSWPRIVALLDEMRAAGVEPDGFTASTVIAACSRDGLVDEAVAFFEDLKARGHAPSVVTYNALLQVFGKAGNYTEALRVLGEMEQNGCQPDAVTYNELAGTYARAGFFEEAARCLDTMASKGLLPNAFTYNTVMTAYGNVGKVDEALALFDQMKKTGFVPNVNTYNLVLGMLGKKSRFTVMLEMLGEMSRSGCTPNRVTWNTMLAVSGKRGMEDYVTRVLEGMRSSGVELSRDTYNTLIAAYGRCGSRTNAFKMYNEMTSAGFTPCITTYNALLNVLSRQGDWSTAQSIVSKMRTKGFKPNEQSYSLLLQCYAKGGNVAGIAAIENEVYGSGAVFPSWVILRTLVIANFKCRRLDGMETAFQEVKARGYNPDLVIFNSMLSIYAKNGMYSKATEVFDSIKRSGLSPDLITYNSLMDMYAKCSESWEAEKILNQLKCSQTMKPDVVSYNTVINGFCKQGLVKEAQRVLSEMVADGMAPCAVTYHTLVGGYSSLEMFSEAREVIGYMVQHGLKPMELTYRRVVESYCRAKRFEEARGFLSEVSETDLDFDKKALEAYIEDAQFGR                   GUAUUCUUUAAUUAUUUC         True                149                310\n",
      "1  nonribo                                                                                                                                                                                                                                                                                           MKVEEILEKALELVIPDEEEVRKGREAEEELRRRLDELGVEYVFVGSYARNTWLKGSLEIDVFLLFPEEFSKEELRERGLEIGKAVLDSYEIRYAEHPYVHGVVKGVEVDVVPCYKLKEPKNIKSAVDRTPFHHKWLEGRIKGKENEVRLLKGFLKANGIYGAEYKVRGFSGYLCELLIVFYGSFLETVKNARRWTRRTVIDVAKGEVRKGEEFFVVDPVDEKRNVAANLSLDNLARFVHLCREFMEAPSLGFFKPKHPLEIEPERLRKIVEERGTAVFAVKFRKPDIVDDNLYPQLERASRKIFEFLERENFMPLRSAFKASEEFCYLLFECQIKEISRVFRRMGPQFEDERNVKKFLSRNRAFRPFIENGRWWAFEMRKFTTPEEGVRSYASTHWHTLGKNVGESIREYFEIISGEKLFKEPVTAELCEMMGVKD  GGCCCGGGGCGGUUCGAUUCCGCCCUGGGCCACCA         True                296                223\n",
      "2  nonribo                                                                                                                                                                                                                                                                                                                                                                                                                                                                                                                                                                                                                 GSHMTSPFKLPDESPSWTEWRLHNDETNSNQDNPLGFKESWGFGKVVFKRYLRYDRTEASLHRVLGSWTGDSVNYAASRFFGFDQIGCTYSIRFRGVSITVSGGSRTLQHLCEMAIRSKQELLQLAP                 CCGCCGCCGCCGCCGCCGCG         True                136                 72\n"
     ]
    }
   ],
   "source": [
    "# Rename protein_seq columns to Sequence_2 and rna_seq to Sequence_1 to match the\n",
    "# format of the other datasets\n",
    "rpi2825_df = rpi2825_df.rename(columns={'protein_seq': 'Sequence_2', 'rna_seq': 'Sequence_1'})\n",
    "\n",
    "# Add interaction column for classification task\n",
    "rpi2825_df['interaction'] = True\n",
    "\n",
    "# Create embeddings IDs columns\n",
    "rpi2825_df['Sequence_2_emb_ID'] = rpi2825_df.groupby(['Sequence_2']).ngroup()\n",
    "rpi2825_df['Sequence_1_emb_ID'] = rpi2825_df.groupby(['Sequence_1']).ngroup()\n",
    "\n",
    "# Create non-ribosomal and only-ribosomal datasets\n",
    "rpi2435_df = rpi2825_df[rpi2825_df['type'] == 'ribo']\n",
    "rpi390_df = rpi2825_df[rpi2825_df['type'] == 'nonribo']\n",
    "\n",
    "# Save the results\n",
    "rpi2825_df.to_parquet(os.path.join(INTER_DIR, 'rpi2825_test_set.parquet'), index=False)\n",
    "rpi2435_df.to_parquet(os.path.join(INTER_DIR, 'rpi2435_test_set.parquet'), index=False)\n",
    "rpi390_df.to_parquet(os.path.join(INTER_DIR, 'rpi390_test_set.parquet'), index=False)\n",
    "\n",
    "# print first entry of the dataset\n",
    "print(f\"Number of (positive) interactions: {rpi2825_df.shape[0]:,} \\n\")\n",
    "print(f\"RPI dataframe columns: \\n {rpi2825_df.columns.to_list()} \\n\")\n",
    "print(f\"RPI sample entries: \\n {rpi2825_df.head(3).to_string()}\")\n"
   ]
  },
  {
   "cell_type": "markdown",
   "id": "1a801c7e",
   "metadata": {},
   "source": [
    "## Unique sequences"
   ]
  },
  {
   "cell_type": "code",
   "execution_count": 6,
   "id": "e6007ee2fcf13c60",
   "metadata": {
    "collapsed": false
   },
   "outputs": [
    {
     "name": "stdout",
     "output_type": "stream",
     "text": [
      "Number of unique protein sequences: 467\n",
      "Number of unique RNA sequences: 398\n"
     ]
    }
   ],
   "source": [
    "# Save unique protein and RNA sequences\n",
    "unique_proteins = rpi2825_df.drop_duplicates(subset=['Sequence_2_emb_ID'])\n",
    "unique_proteins.to_parquet(os.path.join(ANNOT_DIR, 'rpi2825_unique_proteins.parquet'), engine='pyarrow')\n",
    "\n",
    "unique_RNA = rpi2825_df.drop_duplicates(subset=['Sequence_1_emb_ID'])\n",
    "unique_RNA.to_parquet(os.path.join(ANNOT_DIR, 'rpi2825_unique_rna.parquet'), engine='pyarrow')\n",
    "\n",
    "print(f\"Number of unique protein sequences: {unique_proteins['Sequence_2'].nunique():,}\")\n",
    "print(f\"Number of unique RNA sequences: {unique_RNA['Sequence_1'].nunique():,}\")\n"
   ]
  }
 ],
 "metadata": {
  "kernelspec": {
   "display_name": "Python 3",
   "language": "python",
   "name": "python3"
  },
  "language_info": {
   "codemirror_mode": {
    "name": "ipython",
    "version": 3
   },
   "file_extension": ".py",
   "mimetype": "text/x-python",
   "name": "python",
   "nbconvert_exporter": "python",
   "pygments_lexer": "ipython3",
   "version": "3.8.18"
  }
 },
 "nbformat": 4,
 "nbformat_minor": 5
}
