{
 "cells": [
  {
   "cell_type": "code",
   "execution_count": 1,
   "metadata": {
    "collapsed": true,
    "ExecuteTime": {
     "end_time": "2023-06-03T21:57:54.621446Z",
     "start_time": "2023-06-03T21:57:54.210944Z"
    }
   },
   "outputs": [],
   "source": [
    "import pandas as pd\n",
    "import requests\n",
    "from scripts import utils\n",
    "import pickle\n",
    "import json\n",
    "from more_itertools import chunked\n",
    "from tqdm import tqdm"
   ]
  },
  {
   "cell_type": "code",
   "execution_count": null,
   "outputs": [],
   "source": [
    "def get_fasta_post(ensemble_ids, retries=3):\n",
    "    for _ in range(retries):\n",
    "        try:\n",
    "            server = \"https://apr2022.rest.ensembl.org\"\n",
    "            ext = \"/sequence/id\"\n",
    "            headers={ \"Content-Type\" : \"application/json\", \"Accept\" : \"application/json\"}\n",
    "            rbody = dict(\n",
    "                ids=ensemble_ids\n",
    "            )\n",
    "            r = requests.post(server+ext, headers=headers, data=json.dumps(rbody))\n",
    "\n",
    "            if r.ok:\n",
    "              return r.json()\n",
    "        except:\n",
    "            continue\n",
    "    return []"
   ],
   "metadata": {
    "collapsed": false
   }
  },
  {
   "cell_type": "code",
   "execution_count": 2,
   "outputs": [],
   "source": [
    "rna_inter_df = utils.load_rna_inter('Ensembl')\n",
    "rna_inter_df.to_parquet('Download_data_RP_Ensembl.parquet', engine='pyarrow', compression=None)"
   ],
   "metadata": {
    "collapsed": false,
    "ExecuteTime": {
     "end_time": "2023-06-03T21:59:08.803780Z",
     "start_time": "2023-06-03T21:57:54.620802Z"
    }
   }
  },
  {
   "cell_type": "code",
   "execution_count": 3,
   "outputs": [
    {
     "name": "stdout",
     "output_type": "stream",
     "text": [
      "RNAInter database loaded with size: 7,471,922\n"
     ]
    }
   ],
   "source": [
    "rna_inter_df = pd.read_parquet('Download_data_RP_Ensembl.parquet', engine='pyarrow')\n",
    "print(f\"RNAInter database loaded with size: {rna_inter_df.shape[0]:,}\")"
   ],
   "metadata": {
    "collapsed": false,
    "ExecuteTime": {
     "end_time": "2023-06-03T21:59:11.310096Z",
     "start_time": "2023-06-03T21:59:08.803125Z"
    }
   }
  },
  {
   "cell_type": "code",
   "execution_count": null,
   "outputs": [],
   "source": [
    "# Get unique Ensembl IDs\n",
    "ensembl_ids = list(rna_inter_df['Raw_ID1'].unique())\n",
    "# to save memory :)\n",
    "del rna_inter_df\n",
    "ensembl_ids = [ensembl_id[8:] for ensembl_id in ensembl_ids]\n",
    "file = open('ensembl_ids.pickle', 'wb')\n",
    "pickle.dump(ensembl_ids, file)\n",
    "file.close()"
   ],
   "metadata": {
    "collapsed": false
   }
  },
  {
   "cell_type": "code",
   "execution_count": null,
   "outputs": [],
   "source": [
    "# for ensembl_id in ensembl_ids:\n",
    "results = []\n",
    "ensembl_ids_chunks = list(chunked(ensembl_ids, 50))\n",
    "for ensembl_ids_chunk in tqdm(ensembl_ids_chunks):\n",
    "    results += get_fasta_post(ensembl_ids_chunk)\n",
    "file = open('Ensembl_sequences.pickle', 'wb')\n",
    "pickle.dump(results, file)\n",
    "file.close()"
   ],
   "metadata": {
    "collapsed": false
   }
  },
  {
   "cell_type": "code",
   "execution_count": 4,
   "outputs": [],
   "source": [
    "file = open('Ensembl_sequences.pickle', 'rb')\n",
    "ensembl_sequences = pickle.load(file)\n",
    "file.close()"
   ],
   "metadata": {
    "collapsed": false,
    "ExecuteTime": {
     "end_time": "2023-06-03T21:59:11.463554Z",
     "start_time": "2023-06-03T21:59:11.310848Z"
    }
   }
  },
  {
   "cell_type": "markdown",
   "source": [
    "# Obtain sequences which were fetched on server"
   ],
   "metadata": {
    "collapsed": false
   }
  },
  {
   "cell_type": "code",
   "execution_count": 5,
   "outputs": [
    {
     "name": "stdout",
     "output_type": "stream",
     "text": [
      "41,100 sequences fetched.\n"
     ]
    },
    {
     "name": "stderr",
     "output_type": "stream",
     "text": [
      "100%|██████████| 41100/41100 [00:00<00:00, 1034772.74it/s]\n"
     ]
    }
   ],
   "source": [
    "print(f\"{len(ensembl_sequences):,} sequences fetched.\")\n",
    "\n",
    "Ensembl_df = pd.DataFrame([dict(\n",
    "        Raw_ID1=f\"Ensembl:{seq['id']}\",\n",
    "        Sequence_1=seq['seq'],\n",
    "        Sequence_1_len=len(seq['seq']),\n",
    "        Sequence_1_ID=seq['id']\n",
    "    ) for seq in tqdm(ensembl_sequences)\n",
    "])\n",
    "# fix RNA sequences\n",
    "Ensembl_df['Sequence_1'] = Ensembl_df['Sequence_1'].str.replace('T', 'U')\n",
    "Ensembl_df['has_N'] = Ensembl_df['Sequence_1'].str.contains('N')\n",
    "Ensembl_df = Ensembl_df[Ensembl_df['has_N'] == False]\n",
    "Ensembl_df = Ensembl_df.drop(['has_N'], axis=1)\n",
    "utils.check_sequences(Ensembl_df)\n",
    "Ensembl_df.to_parquet('Ensembl.parquet', engine='pyarrow', compression=None)"
   ],
   "metadata": {
    "collapsed": false,
    "ExecuteTime": {
     "end_time": "2023-06-03T21:59:26.272521Z",
     "start_time": "2023-06-03T21:59:11.466064Z"
    }
   }
  },
  {
   "cell_type": "code",
   "execution_count": 6,
   "outputs": [],
   "source": [
    "Ensembl_df = pd.read_parquet('Ensembl.parquet', engine='pyarrow')"
   ],
   "metadata": {
    "collapsed": false,
    "ExecuteTime": {
     "end_time": "2023-06-03T21:59:26.628628Z",
     "start_time": "2023-06-03T21:59:26.272764Z"
    }
   }
  },
  {
   "cell_type": "markdown",
   "source": [
    "# Calc recovery rate"
   ],
   "metadata": {
    "collapsed": false
   }
  },
  {
   "cell_type": "code",
   "execution_count": 7,
   "outputs": [
    {
     "name": "stdout",
     "output_type": "stream",
     "text": [
      "Unique Gene IDs before extraction:\t45,235\n",
      "Unique Gene IDs after extraction:\t41,086\n",
      "Extraction rate:\t90.83%\n"
     ]
    }
   ],
   "source": [
    "rna_inter_df = pd.read_parquet('Download_data_RP_Ensembl.parquet', engine='pyarrow')\n",
    "Ensembl_df = pd.read_parquet('Ensembl.parquet', engine='pyarrow')\n",
    "utils.calc_recovery_rate(rna_inter_df, Ensembl_df)"
   ],
   "metadata": {
    "collapsed": false,
    "ExecuteTime": {
     "end_time": "2023-06-03T21:59:30.649115Z",
     "start_time": "2023-06-03T21:59:26.628936Z"
    }
   }
  },
  {
   "cell_type": "code",
   "execution_count": null,
   "outputs": [],
   "source": [],
   "metadata": {
    "collapsed": false
   }
  }
 ],
 "metadata": {
  "kernelspec": {
   "display_name": "Python 3",
   "language": "python",
   "name": "python3"
  },
  "language_info": {
   "codemirror_mode": {
    "name": "ipython",
    "version": 2
   },
   "file_extension": ".py",
   "mimetype": "text/x-python",
   "name": "python",
   "nbconvert_exporter": "python",
   "pygments_lexer": "ipython2",
   "version": "2.7.6"
  }
 },
 "nbformat": 4,
 "nbformat_minor": 0
}
