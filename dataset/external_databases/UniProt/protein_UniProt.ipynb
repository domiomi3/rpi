{
 "cells": [
  {
   "cell_type": "code",
   "execution_count": 2,
   "metadata": {
    "collapsed": true
   },
   "outputs": [],
   "source": [
    "from Bio import SeqIO\n",
    "import pandas as pd\n",
    "from scripts import utils\n",
    "from Bio import Entrez\n",
    "from more_itertools import chunked\n",
    "from tqdm import tqdm\n",
    "import pickle\n",
    "import io\n",
    "\n",
    "Entrez.email = \"gernel@informatik.uni-freiburg.de\""
   ]
  },
  {
   "cell_type": "code",
   "execution_count": 3,
   "outputs": [],
   "source": [
    "rna_inter_df = utils.load_rna_inter_protein('UniProt')\n",
    "rna_inter_df.to_parquet('RNAInter_uniport.parquet', engine='pyarrow', compression=None)"
   ],
   "metadata": {
    "collapsed": false,
    "ExecuteTime": {
     "end_time": "2023-06-12T12:29:30.030955Z",
     "start_time": "2023-06-12T12:28:10.182984Z"
    }
   }
  },
  {
   "cell_type": "code",
   "execution_count": 4,
   "outputs": [],
   "source": [
    "rna_inter_df = pd.read_parquet('RNAInter_uniport.parquet', engine='pyarrow')"
   ],
   "metadata": {
    "collapsed": false,
    "ExecuteTime": {
     "end_time": "2023-06-12T12:29:30.469104Z",
     "start_time": "2023-06-12T12:29:30.028429Z"
    }
   }
  },
  {
   "cell_type": "code",
   "execution_count": 6,
   "outputs": [
    {
     "name": "stdout",
     "output_type": "stream",
     "text": [
      "3290 unique protein IDs\n",
      "100 proteins done\n",
      "200 proteins done\n",
      "300 proteins done\n",
      "400 proteins done\n",
      "500 proteins done\n",
      "600 proteins done\n",
      "700 proteins done\n",
      "800 proteins done\n",
      "900 proteins done\n",
      "1000 proteins done\n",
      "1100 proteins done\n",
      "1200 proteins done\n",
      "1300 proteins done\n",
      "1400 proteins done\n",
      "1500 proteins done\n",
      "1600 proteins done\n",
      "1700 proteins done\n",
      "1800 proteins done\n",
      "1900 proteins done\n",
      "2000 proteins done\n",
      "2100 proteins done\n",
      "2200 proteins done\n",
      "2300 proteins done\n",
      "2400 proteins done\n",
      "2500 proteins done\n",
      "2600 proteins done\n",
      "2700 proteins done\n",
      "2800 proteins done\n",
      "2900 proteins done\n",
      "3000 proteins done\n",
      "3100 proteins done\n",
      "3200 proteins done\n"
     ]
    }
   ],
   "source": [
    "uniprot_ids = list(rna_inter_df['Raw_ID2'].unique())\n",
    "print(f\"{len(uniprot_ids)} unique protein IDs\")\n",
    "uniprot_ids = [uniprot_id[8:] for uniprot_id in uniprot_ids]\n",
    "protein_sequences = utils.fetch_protein_fasta(uniprot_ids)\n",
    "# convert fasta string to Seq Objects\n",
    "protein_sequences = [(protein[0], list(SeqIO.parse(io.StringIO(protein[1]), \"fasta\"))) for protein in protein_sequences]\n",
    "# flatten list\n",
    "protein_sequences = [(protein[0], seq) for protein in protein_sequences for seq in protein[1]]\n",
    "uniprot_proteins_2_df = [dict(\n",
    "    Raw_ID2=f\"UniProt:{protein[0]}\",\n",
    "    Sequence_2=str(protein[1].seq),\n",
    "    Sequence_2_len=len(str(protein[1].seq)),\n",
    "    Sequence_2_ID=protein[1].id,\n",
    ") for protein in protein_sequences]\n",
    "uniprot_proteins_df = pd.DataFrame(uniprot_proteins_2_df)\n",
    "uniprot_proteins_df.to_parquet(\"protein_uniprot.parquet\", engine='pyarrow', compression=None)"
   ],
   "metadata": {
    "collapsed": false,
    "ExecuteTime": {
     "end_time": "2023-06-12T12:35:02.911231Z",
     "start_time": "2023-06-12T12:33:50.696575Z"
    }
   }
  },
  {
   "cell_type": "code",
   "execution_count": 8,
   "outputs": [],
   "source": [
    "uniprot_proteins_df = pd.read_parquet(\"protein_uniprot.parquet\", engine='pyarrow')"
   ],
   "metadata": {
    "collapsed": false,
    "ExecuteTime": {
     "end_time": "2023-06-12T12:37:16.757555Z",
     "start_time": "2023-06-12T12:37:16.746415Z"
    }
   }
  },
  {
   "cell_type": "markdown",
   "source": [
    "# Calc recovery rate"
   ],
   "metadata": {
    "collapsed": false
   }
  },
  {
   "cell_type": "code",
   "execution_count": 9,
   "outputs": [
    {
     "name": "stdout",
     "output_type": "stream",
     "text": [
      "Unique Gene IDs before extraction:\t3,290\n",
      "Unique Gene IDs after extraction:\t3,069\n",
      "Extraction rate:\t93.28%\n"
     ]
    }
   ],
   "source": [
    "utils.calc_recovery_rate(rna_inter_df, uniprot_proteins_df, col_name='Raw_ID2')"
   ],
   "metadata": {
    "collapsed": false,
    "ExecuteTime": {
     "end_time": "2023-06-12T12:37:18.132459Z",
     "start_time": "2023-06-12T12:37:18.110230Z"
    }
   }
  },
  {
   "cell_type": "code",
   "execution_count": null,
   "outputs": [],
   "source": [],
   "metadata": {
    "collapsed": false
   }
  }
 ],
 "metadata": {
  "kernelspec": {
   "display_name": "Python 3",
   "language": "python",
   "name": "python3"
  },
  "language_info": {
   "codemirror_mode": {
    "name": "ipython",
    "version": 2
   },
   "file_extension": ".py",
   "mimetype": "text/x-python",
   "name": "python",
   "nbconvert_exporter": "python",
   "pygments_lexer": "ipython2",
   "version": "2.7.6"
  }
 },
 "nbformat": 4,
 "nbformat_minor": 0
}
