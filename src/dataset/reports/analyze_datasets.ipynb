{
 "cells": [
  {
   "cell_type": "markdown",
   "source": [
    "# Analyzing Datasets\n",
    "Script analyzes shares of different rna, protein and interaction types and outputs figures\n",
    "Mainly needed for thesis figures :-)"
   ],
   "metadata": {
    "collapsed": false
   }
  },
  {
   "cell_type": "code",
   "execution_count": null,
   "outputs": [],
   "source": [
    "import pandas as pd\n",
    "import matplotlib.pyplot as plt\n",
    "import os"
   ],
   "metadata": {
    "collapsed": false
   }
  },
  {
   "cell_type": "code",
   "execution_count": null,
   "outputs": [],
   "source": [
    "dataset_path = f\"../results/figures\""
   ],
   "metadata": {
    "collapsed": false
   }
  },
  {
   "cell_type": "code",
   "execution_count": null,
   "outputs": [],
   "source": [
    "def compute_shares(df: pd.DataFrame):\n",
    "    num_positives = df[(df['Sequence_1_shuffle'] == 0) & (df['Sequence_2_shuffle'] == 0)].shape[0]\n",
    "    num_negatives = df[(df['Sequence_1_shuffle'] == 1) | (df['Sequence_2_shuffle'] == 1)].shape[0]\n",
    "    assert num_negatives + num_positives == df.shape[0]\n",
    "    print(f\"Num of positive pairs: {num_positives} ({round(num_positives * 100 / df.shape[0], 2)} %)\")\n",
    "    print(f\"Num of negative pairs: {num_negatives} ({round(num_negatives * 100 / df.shape[0], 2)} %)\")"
   ],
   "metadata": {
    "collapsed": false
   }
  },
  {
   "cell_type": "code",
   "execution_count": null,
   "outputs": [],
   "source": [
    "def analyse_rna_type(df: pd.DataFrame, name: str):\n",
    "    # use only positive pairs\n",
    "    df = df[(df['Sequence_1_shuffle'] == 0) & (df['Sequence_2_shuffle'] == 0)]\n",
    "    group = df.groupby(['Category1']).count().reset_index()[['Category1', 'RNAInterID']]\n",
    "    categories = group['Category1'].values.tolist()\n",
    "    counts = group['RNAInterID'].values.tolist()\n",
    "    entries = [ (x1, x2) for x1, x2 in zip(categories, counts)]\n",
    "    entries.sort(key= lambda x: x[1], reverse=True)\n",
    "    counts = [x[1] for x in entries]\n",
    "    categories = [x[0] for x in entries]\n",
    "    fig, ax = plt.subplots()\n",
    "\n",
    "\n",
    "    ax.bar(categories, counts)\n",
    "    fig.autofmt_xdate(rotation=45)\n",
    "    ax.set_title(f\"RNA categories on {name}\")\n",
    "    ax.set_ylabel('number of positive interactions')\n",
    "    #plt.yscale(\"log\")\n",
    "    filename = f\"{'-'.join(name.split(' '))}-RNAs.pdf\"\n",
    "    plt.savefig(os.path.join(dataset_path, filename), bbox_inches='tight')\n",
    "    plt.show()"
   ],
   "metadata": {
    "collapsed": false
   }
  },
  {
   "cell_type": "code",
   "execution_count": null,
   "outputs": [],
   "source": [
    "def analyse_protein_type(df: pd.DataFrame, name: str):\n",
    "    df = df[(df['Sequence_1_shuffle'] == 0) & (df['Sequence_2_shuffle'] == 0)]\n",
    "    group = df.groupby(['Category2']).count().reset_index()[['Category2', 'RNAInterID']]\n",
    "    categories = group['Category2'].values.tolist()\n",
    "    counts = group['RNAInterID'].values.tolist()\n",
    "    entries = [ (x1, x2) for x1, x2 in zip(categories, counts)]\n",
    "    entries.sort(key= lambda x: x[1], reverse=True)\n",
    "    counts = [x[1] for x in entries]\n",
    "    categories = [x[0] for x in entries]\n",
    "    fig, ax = plt.subplots()\n",
    "\n",
    "\n",
    "    ax.bar(categories, counts)\n",
    "    fig.autofmt_xdate(rotation=45)\n",
    "    ax.set_title(f\"protein categories on {name}\")\n",
    "    ax.set_ylabel('number of positive interactions')\n",
    "    #plt.yscale(\"log\")\n",
    "\n",
    "    filename = f\"{'-'.join(name.split(' '))}-proteins.pdf\"\n",
    "    plt.savefig(os.path.join(dataset_path, filename), bbox_inches='tight')\n",
    "    plt.show()"
   ],
   "metadata": {
    "collapsed": false
   }
  },
  {
   "cell_type": "code",
   "execution_count": null,
   "outputs": [],
   "source": [
    "def analyse_interaction_type(df: pd.DataFrame, name: str):\n",
    "    df = df[(df['Sequence_1_shuffle'] == 0) & (df['Sequence_2_shuffle'] == 0)]\n",
    "    group = df.groupby(['Category2', 'Category1']).count().reset_index()\n",
    "    group['interaction-type'] = group['Category1'].astype(str) + \"-\" + group['Category2'].astype(str)\n",
    "    categories = group['interaction-type'].values.tolist()\n",
    "    counts = group['RNAInterID'].values.tolist()\n",
    "    entries = [ (x1, x2) for x1, x2 in zip(categories, counts)]\n",
    "    entries.sort(key= lambda x: x[1], reverse=True)\n",
    "    counts = [x[1] for x in entries]\n",
    "    categories = [x[0] for x in entries]\n",
    "    fig, ax = plt.subplots(figsize=(8, 12))\n",
    "\n",
    "\n",
    "    ax.barh(categories, counts)\n",
    "    # fig.autofmt_xdate(rotation=90)\n",
    "    ax.set_title(f\"interaction types on {name}\")\n",
    "    ax.set_ylabel('number of positive interactions')\n",
    "    plt.xscale(\"log\")\n",
    "\n",
    "    filename = f\"{'-'.join(name.split(' '))}-interaction-type.pdf\"\n",
    "\n",
    "    plt.savefig(os.path.join(dataset_path, filename), bbox_inches='tight')\n",
    "    plt.show()"
   ],
   "metadata": {
    "collapsed": false
   }
  },
  {
   "cell_type": "code",
   "execution_count": null,
   "outputs": [],
   "source": [
    "def check_protein_appearance(df: pd.DataFrame, df_2: pd.DataFrame):\n",
    "    # get proteins\n",
    "    proteins_1 = set(df['Sequence_2_ID_Unique'].unique())\n",
    "    proteins_2 = set(df_2['Sequence_2_ID_Unique'].unique())\n",
    "    print(f\"Number of unique proteins in set 1: {len(proteins_1)}\")\n",
    "    print(f\"Number of unique proteins in set 2: {len(proteins_2)}\")\n",
    "    print(f\"Set 1 and Set 2 have {len(proteins_2.intersection(proteins_1))} unique protein in common.\")"
   ],
   "metadata": {
    "collapsed": false
   }
  },
  {
   "cell_type": "code",
   "execution_count": null,
   "outputs": [],
   "source": [
    "def check_rna_appearance(df: pd.DataFrame, df_2: pd.DataFrame):\n",
    "    # get RNAs\n",
    "    rna_1 = set(df['Sequence_1_ID_Unique'].unique())\n",
    "    rna_2 = set(df_2['Sequence_1_ID_Unique'].unique())\n",
    "    print(f\"Number of unique rna in set 1: {len(rna_1)}\")\n",
    "    print(f\"Number of unique rna in set 2: {len(rna_2)}\")\n",
    "    print(f\"Set 1 and Set 2 have {len(rna_1.intersection(rna_2))} unique protein in common.\")"
   ],
   "metadata": {
    "collapsed": false
   }
  },
  {
   "cell_type": "markdown",
   "source": [],
   "metadata": {
    "collapsed": false
   }
  },
  {
   "cell_type": "code",
   "execution_count": null,
   "outputs": [],
   "source": [
    "sets = [\n",
    "    (pd.read_parquet('../results/dataset_v4/final_train_set_reduced.parquet', engine='pyarrow'), \"Training set\"),\n",
    "    # (pd.read_parquet('../results/final_valid_set.parquet', engine='pyarrow'), \"Validation set\"),\n",
    "    (pd.read_parquet('../results/dataset_v4/final_test_set_reduced.parquet', engine='pyarrow'), \"Test set\"),\n",
    "]\n",
    "\n",
    "for dataset, name in sets: \n",
    "    analyse_interaction_type(dataset, name)\n",
    "\n",
    "for dataset, name in sets:\n",
    "    analyse_rna_type(dataset, name)\n",
    "    \n",
    "for dataset, name in sets: \n",
    "    analyse_protein_type(dataset, name)"
   ],
   "metadata": {
    "collapsed": false
   }
  },
  {
   "cell_type": "code",
   "execution_count": null,
   "outputs": [],
   "source": [
    "# cross checking datasets\n",
    "# which proteins from split y do also appear in split x"
   ],
   "metadata": {
    "collapsed": false
   }
  },
  {
   "cell_type": "code",
   "execution_count": null,
   "outputs": [],
   "source": [
    "# Prepare Train Split\n",
    "train_set = pd.read_parquet(\"../results/dataset_v4/final/train_set.parquet\")\n",
    "len_train_set = len(train_set)\n",
    "train_set['interaction-type'] = train_set['Category1'].astype(str) + \"-\" + train_set['Category2'].astype(str)\n",
    "train_set = train_set.groupby(['interaction-type']).count().reset_index()\n",
    "train_set = train_set[['interaction-type', \"RNAInterID\"]]\n",
    "train_set = train_set.rename(columns={\"RNAInterID\": \"count-train\"})\n",
    "train_set['Training Set'] = train_set['count-train'] / len_train_set\n",
    "\n",
    "# Prepare Random Split\n",
    "random_set = pd.read_parquet(\"../results/dataset_v4/final/test_set_random.parquet\")\n",
    "len_random_set = len(random_set)\n",
    "random_set['interaction-type'] = random_set['Category1'].astype(str) + \"-\" + random_set['Category2'].astype(str)\n",
    "random_set = random_set.groupby(['interaction-type']).count().reset_index()\n",
    "random_set = random_set[['interaction-type', \"RNAInterID\"]]\n",
    "random_set = random_set.rename(columns={\"RNAInterID\": \"count-random\"})\n",
    "random_set['Random Test Set'] = random_set['count-random'] / len_random_set\n",
    "\n",
    "test_set = pd.read_parquet(\"../results/dataset_v4/final/test_set.parquet\")\n",
    "len_test_set = len(test_set)\n",
    "test_set['interaction-type'] = test_set['Category1'].astype(str) + \"-\" + test_set['Category2'].astype(str)\n",
    "test_set = test_set.groupby(['interaction-type']).count().reset_index()\n",
    "test_set = test_set[['interaction-type', 'RNAInterID']]\n",
    "test_set = test_set.rename(columns={\"RNAInterID\": \"count-test\"})\n",
    "test_set['Test Set'] = test_set['count-test'] / len_test_set\n",
    "\n",
    "new_df = train_set.set_index('interaction-type').join(random_set.set_index('interaction-type'), how='outer').fillna(0)\n",
    "new_df = new_df.join(test_set.set_index('interaction-type'), how='outer').fillna(0)\n",
    "\n",
    "latex_df = new_df\n",
    "latex_df['Training Set'] = latex_df['Training Set']  * 100\n",
    "latex_df['Random Test Set'] = latex_df['Random Test Set']  * 100\n",
    "latex_df['Test Set'] = latex_df['Test Set']  * 100\n",
    "latex_df = latex_df.sort_values(by='Training Set', ascending=False)\n",
    "latex_out = latex_df.head(23).style.format(decimal='.', thousands=',', precision=4).to_latex()\n",
    "latex_out_2 = latex_df.tail(-23).style.format(decimal='.', thousands=',', precision=4).to_latex()\n",
    "\n",
    "\n",
    "new_df = new_df[['Training Set', 'Random Test Set', 'Test Set']]\n",
    "new_df = new_df.sort_values(by='Training Set', ascending=True)\n",
    "fig, ax = plt.subplots(figsize=(8, 12))\n",
    "new_df.plot.barh(ax=ax)\n",
    "ax.set_ylabel('Interaction Types')\n",
    "ax.set_xlabel('Share of interactions')\n",
    "plt.xscale(\"log\")\n",
    "plt.savefig(\"../results/dataset_v4/figures/dataset-interaction-type-share.pdf\", bbox_inches='tight')"
   ],
   "metadata": {
    "collapsed": false
   }
  },
  {
   "cell_type": "code",
   "execution_count": null,
   "outputs": [],
   "source": [
    "# Prepare Train Split\n",
    "train_set = pd.read_parquet(\"../results/dataset_v4/final/train_set.parquet\")\n",
    "len_train_set = len(train_set)\n",
    "train_set = train_set.groupby(['Category1']).count().reset_index()\n",
    "train_set = train_set[['Category1', \"RNAInterID\"]]\n",
    "train_set = train_set.rename(columns={\"RNAInterID\": \"count-train\"})\n",
    "train_set['Training Set'] = train_set['count-train'] / len_train_set\n",
    "\n",
    "# Prepare Random Split\n",
    "random_set = pd.read_parquet(\"../results/dataset_v4/final/test_set_random.parquet\")\n",
    "len_random_set = len(random_set)\n",
    "random_set = random_set.groupby(['Category1']).count().reset_index()\n",
    "random_set = random_set[['Category1', \"RNAInterID\"]]\n",
    "random_set = random_set.rename(columns={\"RNAInterID\": \"count-random\"})\n",
    "random_set['Random Test Set'] = random_set['count-random'] / len_random_set\n",
    "\n",
    "test_set = pd.read_parquet(\"../results/dataset_v4/final/test_set.parquet\")\n",
    "len_test_set = len(test_set)\n",
    "test_set = test_set.groupby(['Category1']).count().reset_index()\n",
    "test_set = test_set[['Category1', 'RNAInterID']]\n",
    "test_set = test_set.rename(columns={\"RNAInterID\": \"count-test\"})\n",
    "test_set['Test Set'] = test_set['count-test'] / len_test_set\n",
    "\n",
    "new_df = train_set.set_index('Category1').join(random_set.set_index('Category1'), how='outer').fillna(0)\n",
    "new_df = new_df.join(test_set.set_index('Category1'), how='outer').fillna(0)\n",
    "\n",
    "\n",
    "latex_df = new_df\n",
    "latex_df['Training Set'] = latex_df['Training Set']  * 100\n",
    "latex_df['Random Test Set'] = latex_df['Random Test Set']  * 100\n",
    "latex_df['Test Set'] = latex_df['Test Set']  * 100\n",
    "latex_df = latex_df.sort_values(by='Training Set', ascending=False)\n",
    "latex_out = latex_df.style.format(decimal='.', thousands=',', precision=4).to_latex()\n",
    "\n",
    "new_df = new_df[['Training Set', 'Random Test Set', 'Test Set']]\n",
    "new_df = new_df.sort_values(by='Training Set', ascending=True)\n",
    "fig, ax = plt.subplots(figsize=(8, 4))\n",
    "new_df.plot.barh(ax=ax)\n",
    "ax.set_ylabel('RNA interactors')\n",
    "ax.set_xlabel('Share of RNA interactors')\n",
    "plt.xscale(\"log\")\n",
    "plt.savefig(\"../results/dataset_v4/figures/dataset-rna-interactors-share.pdf\", bbox_inches='tight')"
   ],
   "metadata": {
    "collapsed": false
   }
  },
  {
   "cell_type": "code",
   "execution_count": null,
   "outputs": [],
   "source": [
    "# Prepare Train Split\n",
    "train_set = pd.read_parquet(\"../results/dataset_v4/final/train_set.parquet\")\n",
    "len_train_set = len(train_set)\n",
    "train_set = train_set.groupby(['Category2']).count().reset_index()\n",
    "train_set = train_set[['Category2', \"RNAInterID\"]]\n",
    "train_set = train_set.rename(columns={\"RNAInterID\": \"count-train\"})\n",
    "train_set['Training Set'] = train_set['count-train'] / len_train_set\n",
    "\n",
    "# Prepare Random Split\n",
    "random_set = pd.read_parquet(\"../results/dataset_v4/final/test_set_random.parquet\")\n",
    "len_random_set = len(random_set)\n",
    "random_set = random_set.groupby(['Category2']).count().reset_index()\n",
    "random_set = random_set[['Category2', \"RNAInterID\"]]\n",
    "random_set = random_set.rename(columns={\"RNAInterID\": \"count-random\"})\n",
    "random_set['Random Test Set'] = random_set['count-random'] / len_random_set\n",
    "\n",
    "test_set = pd.read_parquet(\"../results/dataset_v4/final/test_set.parquet\")\n",
    "len_test_set = len(test_set)\n",
    "test_set = test_set.groupby(['Category2']).count().reset_index()\n",
    "test_set = test_set[['Category2', 'RNAInterID']]\n",
    "test_set = test_set.rename(columns={\"RNAInterID\": \"count-test\"})\n",
    "test_set['Test Set'] = test_set['count-test'] / len_test_set\n",
    "\n",
    "new_df = train_set.set_index('Category2').join(random_set.set_index('Category2'), how='outer').fillna(0)\n",
    "new_df = new_df.join(test_set.set_index('Category2'), how='outer').fillna(0)\n",
    "\n",
    "latex_df = new_df\n",
    "latex_df['Training Set'] = latex_df['Training Set']  * 100\n",
    "latex_df['Random Test Set'] = latex_df['Random Test Set']  * 100\n",
    "latex_df['Test Set'] = latex_df['Test Set']  * 100\n",
    "latex_df = latex_df.sort_values(by='Training Set', ascending=False)\n",
    "latex_out = latex_df.style.format(decimal='.', thousands=',', precision=4).to_latex()\n",
    "\n",
    "new_df = new_df[['Training Set', 'Random Test Set', 'Test Set']]\n",
    "new_df = new_df.sort_values(by='Training Set', ascending=True)\n",
    "\n",
    "fig, ax = plt.subplots(figsize=(8, 2))\n",
    "new_df.plot.barh(ax=ax)\n",
    "ax.set_ylabel('Protein interactors')\n",
    "ax.set_xlabel('Share of protein interactors')\n",
    "plt.xscale(\"log\")\n",
    "plt.savefig(\"../results/dataset_v4/figures/dataset-protein-interactors-share.pdf\", bbox_inches='tight')"
   ],
   "metadata": {
    "collapsed": false
   }
  },
  {
   "cell_type": "code",
   "execution_count": null,
   "outputs": [],
   "source": [
    "train_set = pd.read_parquet(\"../results/dataset_v4/final/train_set.parquet\")\n",
    "print(\"Len train set\")\n",
    "print(len(train_set))\n",
    "\n",
    "test_set = pd.read_parquet(\"../results/dataset_v4/final/test_set.parquet\")\n",
    "print(\"Len test set\")\n",
    "print(len(test_set))\n",
    "\n",
    "random_set = pd.read_parquet(\"../results/dataset_v4/final/test_set_random.parquet\")\n",
    "print(\"Len random set\")\n",
    "print(len(random_set))\n",
    "\n",
    "all_df = pd.concat([train_set, random_set, test_set])\n",
    "print(\"Len all\")\n",
    "print(len(all_df))\n",
    "print(\"positive interactions:\")\n",
    "positive = all_df[(all_df['Sequence_1_shuffle'] == 0) & (all_df['Sequence_2_shuffle'] == 0)]\n",
    "print(len(positive))\n",
    "print(\"negative interactions\")\n",
    "negative = all_df[(all_df['Sequence_1_shuffle'] == 1) | (all_df['Sequence_2_shuffle'] == 1)]\n",
    "print(len(negative))\n",
    "print(\"Unique RNA sequences\")\n",
    "print(all_df['Sequence_1'].nunique())\n",
    "print(\"Unique Protein sequences\")\n",
    "print(all_df['Sequence_2'].nunique())\n",
    "\n",
    "print(\"Interaction types\")\n",
    "all_df['interaction-type'] = all_df['Category1'].astype(str) + \"-\" + all_df['Category2'].astype(str)\n",
    "print(all_df['interaction-type'].nunique())\n",
    "\n",
    "print(\"RNA types\")\n",
    "print(all_df['Category1'].nunique())\n",
    "\n",
    "print(\"protein types\")\n",
    "print(all_df['Category2'].nunique())\n",
    "\n",
    "print(\"Share train\")\n",
    "print(round(len(train_set) / len(all_df) * 100, 2))\n",
    "\n",
    "print(\"Share test\")\n",
    "print(round(len(test_set) / len(all_df) * 100, 2))\n",
    "\n",
    "print(\"Share random\")\n",
    "print(round( len(random_set) / len(all_df) * 100,2))"
   ],
   "metadata": {
    "collapsed": false
   }
  },
  {
   "cell_type": "code",
   "execution_count": null,
   "outputs": [],
   "source": [
    "# Prepare Random Split\n",
    "random_set = pd.read_parquet(\"../results/dataset_v4/final/test_set_random.parquet\")\n",
    "len_random_set = len(random_set)\n",
    "random_set['interaction-type'] = random_set['Category1'].astype(str) + \"-\" + random_set['Category2'].astype(str)\n",
    "random_set = random_set.groupby(['interaction-type']).count().reset_index()\n",
    "random_set = random_set[['interaction-type', \"RNAInterID\"]]\n",
    "random_set = random_set.rename(columns={\"RNAInterID\": \"count-random\"})\n",
    "random_set['Random Test Set'] = random_set['count-random'] / len_random_set\n",
    "\n",
    "random_set_results = pd.read_json(\"../results/dataset_v4/final/test-set-random-metrics-per-interaction-type.json\")\n",
    "random_set_results['share'] = random_set_results['total_num'] / len_random_set\n",
    "df = random_set_results.set_index(\"interaction-type\").join(random_set.set_index(\"interaction-type\"))"
   ],
   "metadata": {
    "collapsed": false
   }
  },
  {
   "cell_type": "code",
   "execution_count": null,
   "outputs": [],
   "source": [
    "# prepare test split\n",
    "test_set = pd.read_parquet(\"../results/dataset_v4/final/test_set.parquet\")\n",
    "len_test_set = len(test_set)\n",
    "test_set['interaction-type'] = test_set['Category1'].astype(str) + \"-\" + test_set['Category2'].astype(str)\n",
    "test_set = test_set.groupby(['interaction-type']).count().reset_index()\n",
    "test_set = test_set[['interaction-type', 'RNAInterID']]\n",
    "test_set = test_set.rename(columns={\"RNAInterID\": \"count-test\"})\n",
    "test_set['Test Set'] = test_set['count-test'] / len_test_set\n",
    "\n",
    "test_set_results = pd.read_json(\"../results/dataset_v4/final/test-set-metrics-per-interaction-type.json\")\n",
    "test_set_results['share'] = test_set_results['total_num'] / len_test_set\n",
    "df = test_set_results.set_index(\"interaction-type\").join(test_set.set_index(\"interaction-type\"))"
   ],
   "metadata": {
    "collapsed": false
   }
  },
  {
   "cell_type": "code",
   "execution_count": null,
   "outputs": [],
   "source": [
    "test_set = pd.read_parquet(\"../results/dataset_v4/final/test_set.parquet\")\n",
    "len_test_set = len(test_set)\n",
    "del test_set\n",
    "\n",
    "random_set = pd.read_parquet(\"../results/dataset_v4/final/test_set_random.parquet\")\n",
    "len_random_set = len(random_set)\n",
    "del random_set\n",
    "\n",
    "test_set_results = pd.read_json(\"../results/dataset_v4/final/test-set-metrics-per-interaction-type.json\")\n",
    "test_set_results['share'] = round(test_set_results['total_num'] / len_test_set * 100, 2)\n",
    "test_set_results['f1'] = test_set_results['f1'].round(4)\n",
    "test_set_results['accuracy'] = test_set_results['f1'].round(4)\n",
    "\n",
    "random_set_results = pd.read_json(\"../results/dataset_v4/final/test-set-random-metrics-per-interaction-type.json\")\n",
    "random_set_results['share'] = round(random_set_results['total_num'] / len_random_set * 100, 2)\n",
    "random_set_results['f1'] = random_set_results['f1'].round(4)\n",
    "random_set_results['accuracy'] = random_set_results['accuracy'].round(4)\n",
    "\n",
    "\n",
    "new_df = test_set_results.set_index(\"interaction-type\").join(random_set_results.set_index(\"interaction-type\"), how=\"outer\", lsuffix=\" Test Set\", rsuffix=\" Random Test Set\").fillna(0)\n",
    "new_df = new_df[['f1 Test Set', 'accuracy Test Set', 'share Test Set', 'f1 Random Test Set', 'accuracy Random Test Set', 'share Random Test Set']]\n",
    "new_df = new_df.sort_values(by='share Random Test Set', ascending=False)\n",
    "\n",
    "latex_out = new_df.head(10).style.format(decimal='.', thousands=',', precision=4).to_latex()\n",
    "latex_out_2 = new_df.tail(-10).style.format(decimal='.', thousands=',', precision=4).to_latex()"
   ],
   "metadata": {
    "collapsed": false
   }
  }
 ],
 "metadata": {
  "kernelspec": {
   "display_name": "Python 3",
   "language": "python",
   "name": "python3"
  },
  "language_info": {
   "codemirror_mode": {
    "name": "ipython",
    "version": 2
   },
   "file_extension": ".py",
   "mimetype": "text/x-python",
   "name": "python",
   "nbconvert_exporter": "python",
   "pygments_lexer": "ipython2",
   "version": "2.7.6"
  }
 },
 "nbformat": 4,
 "nbformat_minor": 0
}
