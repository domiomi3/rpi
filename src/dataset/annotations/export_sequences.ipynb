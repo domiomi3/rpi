{
 "cells": [
  {
   "cell_type": "markdown",
   "metadata": {
    "collapsed": false
   },
   "source": [
    "# Exporting Unique Sequences\n",
    "Notebook helps to export all unique RNA and protein sequences\n"
   ]
  },
  {
   "cell_type": "code",
   "execution_count": 75,
   "metadata": {
    "ExecuteTime": {
     "end_time": "2023-12-04T15:40:17.797521Z",
     "start_time": "2023-12-04T15:40:17.511819Z"
    },
    "collapsed": false
   },
   "outputs": [],
   "source": [
    "import os\n",
    "import pickle\n",
    "import pandas as pd"
   ]
  },
  {
   "cell_type": "code",
   "execution_count": 76,
   "metadata": {},
   "outputs": [],
   "source": [
    "WORKING_DIR = \"/work/dlclarge1/matusd-rpi/RPI\" # change this to your working directory\n",
    "DB_DIR = \"RNAProteinInteractions\"\n",
    "RESULTS_DIR = \"data/annotations\"\n",
    "\n",
    "# sequence length limitations\n",
    "PROTEIN_LEN = 1024\n",
    "RNA_LEN = 150\n",
    "\n",
    "os.chdir(WORKING_DIR)"
   ]
  },
  {
   "cell_type": "markdown",
   "metadata": {
    "collapsed": false
   },
   "source": [
    "## Protein Sequences"
   ]
  },
  {
   "cell_type": "code",
   "execution_count": 77,
   "metadata": {
    "ExecuteTime": {
     "end_time": "2023-12-04T15:40:19.961830Z",
     "start_time": "2023-12-04T15:40:18.584403Z"
    },
    "collapsed": false
   },
   "outputs": [
    {
     "name": "stdout",
     "output_type": "stream",
     "text": [
      "Adding database NCBI with 284,157 entries.\n",
      "Adding database UniProt with 3,069 entries.\n",
      "\n",
      " Columns: \n",
      " Index(['Raw_ID2', 'Sequence_2_ID', 'Sequence_2', 'Sequence_2_len'], dtype='object') \n",
      "\n",
      "Sample protein entry: \n",
      " Raw_ID2                                                  NCBI:69865\n",
      "Sequence_2_ID                                            1434110739\n",
      "Sequence_2        mesnhksgdglsgtqkeaalralvqrtgyslvqengqrkyggpppg...\n",
      "Sequence_2_len                                                  587\n",
      "Name: 0, dtype: object \n",
      "\n",
      "Number of entries:\t\t287,226\n"
     ]
    },
    {
     "name": "stdout",
     "output_type": "stream",
     "text": [
      "Number of entries after dropping duplicates based on Raw_ID2 & Sequence 2: 167,227\n",
      "Number of unique sequences:\t166,473\n"
     ]
    }
   ],
   "source": [
    "seq_databases = [\n",
    "    os.path.join(DB_DIR, 'NCBI/ncbi_proteins.parquet'),\n",
    "    os.path.join(DB_DIR, 'UniProt/protein_uniprot.parquet'),\n",
    "]\n",
    "protein_df = pd.DataFrame()\n",
    "for db in seq_databases:\n",
    "    temp_df = pd.read_parquet(db, engine='pyarrow')\n",
    "    db_name = db.split('/')[1]\n",
    "    print(f\"Adding database {db_name} with {temp_df.shape[0]:,} entries.\")\n",
    "    protein_df = pd.concat([protein_df, temp_df])\n",
    "    del temp_df\n",
    "\n",
    "print(f\"\\n Columns: \\n {protein_df.columns} \\n\")\n",
    "print(f\"Sample protein entry: \\n {protein_df.iloc[0]} \\n\")\n",
    "print(f\"Number of entries:\\t\\t{protein_df.shape[0]:,}\")\n",
    "\n",
    "protein_df = protein_df.dropna(subset=['Sequence_2'])\n",
    "protein_df = protein_df.drop_duplicates(subset=['Raw_ID2', 'Sequence_2'])\n",
    "protein_df['Sequence_2_shuffle'] = False # placeholder column for indicating interaction with RNA\n",
    "\n",
    "print(f\"Number of entries after dropping duplicates based on Raw_ID2 & Sequence 2: {protein_df.shape[0]:,}\")\n",
    "print(f\"Number of unique sequences:\\t{protein_df['Sequence_2'].nunique():,}\")\n",
    "\n",
    "protein_df.to_parquet(os.path.join(RESULTS_DIR, 'protein_sequences.parquet'), engine='pyarrow')"
   ]
  },
  {
   "cell_type": "code",
   "execution_count": 78,
   "metadata": {
    "ExecuteTime": {
     "end_time": "2023-12-04T15:40:20.618817Z",
     "start_time": "2023-12-04T15:40:20.352308Z"
    },
    "collapsed": false
   },
   "outputs": [
    {
     "name": "stdout",
     "output_type": "stream",
     "text": [
      "Number of protein sequences shorter or equal to 1024: 133,069/167,227\n"
     ]
    }
   ],
   "source": [
    "# store protein sequences equal to or shorter than PROTEIN_SEQ_LIMIT residues\n",
    "protein_df_short = protein_df[protein_df['Sequence_2_len'] <= PROTEIN_LEN]\n",
    "\n",
    "print(f\"Number of protein sequences shorter or equal to {PROTEIN_LEN}: {protein_df_short.shape[0]:,}/{protein_df.shape[0]:,}\")\n",
    "\n",
    "protein_df_short.to_parquet(os.path.join(RESULTS_DIR, 'protein_sequences_short.parquet'), engine='pyarrow')"
   ]
  },
  {
   "cell_type": "markdown",
   "metadata": {
    "collapsed": false
   },
   "source": [
    "## RNA Sequences"
   ]
  },
  {
   "cell_type": "code",
   "execution_count": 79,
   "metadata": {
    "ExecuteTime": {
     "end_time": "2023-12-04T15:42:35.065293Z",
     "start_time": "2023-12-04T15:42:20.199654Z"
    },
    "collapsed": false
   },
   "outputs": [
    {
     "name": "stdout",
     "output_type": "stream",
     "text": [
      "Adding database: Ensembl with 41,086 entries.\n",
      "Adding database: miRBase with 3,803 entries.\n",
      "Adding database: NCBI with 493,849 entries.\n",
      "Adding database: NONCODE with 25,819 entries.\n",
      "\n",
      " Columns: \n",
      " Index(['Raw_ID1', 'Sequence_1', 'Sequence_1_len', 'Sequence_1_ID', 'index'], dtype='object') \n",
      "\n",
      "Sample RNA entry: \n",
      " Raw_ID1                                  Ensembl:ENSMUSG00000108652\n",
      "Sequence_1        AACAGAACAAAAAUGGAGAGAAGCAAAGACAGAGCCAUUAAAUAUC...\n",
      "Sequence_1_len                                                34996\n",
      "Sequence_1_ID                                    ENSMUSG00000108652\n",
      "index                                                           NaN\n",
      "Name: 0, dtype: object \n",
      "\n",
      "Number of entries:\t\t564,557\n",
      "Number of entries after dropping duplicates based on Raw_ID1 & Sequence 1: 543,935\n",
      "Number of unique sequences:\t539,133\n"
     ]
    }
   ],
   "source": [
    "seq_databases = [\n",
    "    os.path.join(DB_DIR, 'Ensembl/Ensembl.parquet'),\n",
    "    os.path.join(DB_DIR, 'miRBase/miRNA.parquet'),\n",
    "    os.path.join(DB_DIR, 'NCBI/ncbi_rna.parquet'),\n",
    "    os.path.join(DB_DIR, 'NONCODE/NONCODE.parquet'),\n",
    "]\n",
    "rna_df = pd.DataFrame()\n",
    "for db in seq_databases:\n",
    "    temp_df = pd.read_parquet(db, engine='pyarrow')\n",
    "    db_name = db.split('/')[1]\n",
    "    print(f\"Adding database: {db_name} with {temp_df.shape[0]:,} entries.\")\n",
    "    rna_df = pd.concat([rna_df, temp_df])\n",
    "    del temp_df\n",
    "\n",
    "print(f\"\\n Columns: \\n {rna_df.columns} \\n\")\n",
    "print(f\"Sample RNA entry: \\n {rna_df.iloc[0]} \\n\")\n",
    "print(f\"Number of entries:\\t\\t{rna_df.shape[0]:,}\")\n",
    "\n",
    "rna_df = rna_df.dropna(subset=['Sequence_1'])\n",
    "rna_df = rna_df.drop_duplicates(subset=['Raw_ID1', 'Sequence_1'])\n",
    "rna_df = rna_df.drop(['index'], axis=1)\n",
    "rna_df['Sequence_1_shuffle'] = False # placeholder column for indicating interaction with protein\n",
    "\n",
    "print(f\"Number of entries after dropping duplicates based on Raw_ID1 & Sequence 1: {rna_df.shape[0]:,}\")\n",
    "print(f\"Number of unique sequences:\\t{rna_df['Sequence_1'].nunique():,}\")\n",
    "\n",
    "rna_df.to_parquet(os.path.join(RESULTS_DIR, 'rna_sequences.parquet'), engine='pyarrow')"
   ]
  },
  {
   "cell_type": "code",
   "execution_count": 80,
   "metadata": {
    "ExecuteTime": {
     "end_time": "2023-12-04T15:42:35.100537Z",
     "start_time": "2023-12-04T15:42:35.069788Z"
    },
    "collapsed": false
   },
   "outputs": [
    {
     "name": "stdout",
     "output_type": "stream",
     "text": [
      "Number of RNA sequences equal to or shorter than 150: 11,289/543,935\n"
     ]
    }
   ],
   "source": [
    "# store rna sequences equal to or shorter than RNA_SEQ_LIMIT bps\n",
    "rna_df_short = rna_df[rna_df['Sequence_1_len'] <= RNA_LEN]\n",
    "\n",
    "print(f\"Number of RNA sequences equal to or shorter than {RNA_LEN}: {rna_df_short.shape[0]:,}/{rna_df.shape[0]:,}\")\n",
    "\n",
    "rna_df_short.to_parquet(os.path.join(RESULTS_DIR, 'rna_sequences_short.parquet'), engine='pyarrow')"
   ]
  },
  {
   "cell_type": "code",
   "execution_count": 81,
   "metadata": {
    "collapsed": false
   },
   "outputs": [
    {
     "name": "stdout",
     "output_type": "stream",
     "text": [
      "Number of unique short RNA sequences: 543,935\n"
     ]
    }
   ],
   "source": [
    "# store pickle of all unique short RNA sequences (specific for RNA-FM)\n",
    "\n",
    "rna_df = rna_df.sort_values(by=['Sequence_1_len'])\n",
    "rna_sequences = [(seq['Raw_ID1'], seq['Sequence_1']) for _, seq in rna_df.iterrows()]\n",
    "\n",
    "print(f\"Number of unique short RNA sequences: {len(rna_sequences):,}\")\n",
    "with open(os.path.join(RESULTS_DIR, 'unique_rna_sequences.pickle'), 'wb') as file:\n",
    "    pickle.dump(rna_sequences, file)"
   ]
  }
 ],
 "metadata": {
  "kernelspec": {
   "display_name": "Python 3",
   "language": "python",
   "name": "python3"
  },
  "language_info": {
   "codemirror_mode": {
    "name": "ipython",
    "version": 3
   },
   "file_extension": ".py",
   "mimetype": "text/x-python",
   "name": "python",
   "nbconvert_exporter": "python",
   "pygments_lexer": "ipython3",
   "version": "3.8.18"
  }
 },
 "nbformat": 4,
 "nbformat_minor": 0
}
